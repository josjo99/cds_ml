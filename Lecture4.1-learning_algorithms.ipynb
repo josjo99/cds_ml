{
 "cells": [
  {
   "cell_type": "code",
   "execution_count": 6,
   "id": "4422df94-7df2-4152-93fe-6f803d6e2647",
   "metadata": {
    "editable": true,
    "slideshow": {
     "slide_type": "skip"
    },
    "tags": []
   },
   "outputs": [],
   "source": [
    "import numpy as np\n",
    "import matplotlib.pyplot as plt\n",
    "from mpl_toolkits.mplot3d import axes3d\n",
    "\n",
    "from scipy import optimize\n",
    "from scipy.linalg import toeplitz\n",
    "from numpy.polynomial import Polynomial\n",
    "\n",
    "# import gradient_code\n",
    "\n",
    "from utils import color_cycle, plotting_utility"
   ]
  },
  {
   "cell_type": "markdown",
   "id": "9e2bc8a8-9f4a-4a46-a599-58e5bbeb3af4",
   "metadata": {
    "editable": true,
    "slideshow": {
     "slide_type": "slide"
    },
    "tags": []
   },
   "source": [
    "# Lecture 4: Learning in neural netwoks\n",
    "\n",
    "* **4.1 Gradient-based learning**\n",
    "    * Logistic regression and multi-class classification\n",
    "    * Gradient descent, momentum, Newton's method, line search (_bonus: conjugate gradient descent_)\n",
    "    * Stochastic gradient descent, Robbins-Monro\n",
    "\n",
    "_Recommended readings and viewing_:\n",
    "* [Mark Schmidt](https://www.cs.ubc.ca/~schmidtm/) has a number of excellent tutorials and videolectures on optimization and gradient descent. You may want to watch his minicourse [Stochastic Convex Optimization Methods in Machine Learning](https://www.youtube.com/watch?v=p4EnVHSml4U)\n",
    "* For a introduction to conjugate gradient _without the agonizing pain_: https://people.eecs.berkeley.edu/~jrs/jrspapers.html#cg"
   ]
  },
  {
   "cell_type": "markdown",
   "id": "d6a5257e-45be-42fa-847a-1e9db0a205ab",
   "metadata": {},
   "source": [
    "## Classification using logistic regression\n",
    "\n",
    "**Data**: $\\mathcal{D}=\\{(x^\\mu,t^\\mu)\\} \\quad \\mu=1,\\ldots,P$\n",
    "\n",
    "* $x^\\mu=(x_1^\\mu,\\ldots,x_N^\\mu$) vector of (continuous) $N$-dimensional inputs.\n",
    "* $t^\\mu=0,1$ binary target\n",
    "\n",
    "The model $$y(x,w)=p(t=1|x,w)$$ represents the probability that $x$ to belongs to class $t=1$. In analogy with the perceptron, we take\n",
    "\n",
    "$$p(t=1|x,w)=\\sigma\\left(\\sum_{i=0}^N w_i x_i\\right)$$\n",
    "\n",
    "where $x_0=1$, $\\sigma$ is the sigmoid function $\\sigma(x)=(1+e^{-x})^{-1}$, and obviously $p(t=0|x)=1-y$. We can thus write the likelihood of the outputs in $\\mathcal{D}$ as\n",
    "$$\\prod_{\\mu=1}^P p(t^\\mu|x^\\mu,w)=\\prod_{\\mu=1}^P y(x^\\mu,w)^{t^\\mu} (1-y(x^\\mu,w))^{1-t^\\mu}$$\n",
    "\n",
    "and define the negative log-likelihood of the data as the loss function to be minimized:\n",
    "\n",
    "$$E(w)=-\\sum_{\\mu=1}^P\\left[t^\\mu \\log y(x^\\mu,w)+(1-t^\\mu)\\log (1-y(x^\\mu,w))\\right]$$\n",
    "\n",
    "When used in a classification context, one uses a threshold (typically 0.5) for the output of the sigmoid function. One may also want to divide $E$ by $P$ for numerical stability in optimization."
   ]
  },
  {
   "cell_type": "markdown",
   "id": "ff55b3f3-2b4f-4429-b880-1802d9ad45d9",
   "metadata": {
    "editable": true,
    "slideshow": {
     "slide_type": "slide"
    },
    "tags": []
   },
   "source": [
    "## Multi-class classification\n",
    "\n",
    "For more than two classes, consider a network with $K$ outputs: $t^\\mu_k=1$ if $x^\\mu$ belongs to class $k$ and $t^\\mu_k=0$ otherwise (_one-hot encoding_).\n",
    "\n",
    "The network output is\n",
    "\n",
    "$$y_k(x^\\mu,w_k) \\qquad k=1,\\ldots, K$$\n",
    "\n",
    "Define the probability vector:\n",
    "$$p_k(x,\\{w_k\\})= \\frac{\\exp\\left[y_k(x,w_k)\\right]}{\\sum_{k'=1}^K \\exp\\left[y_{k'}(x,w_{k'})\\right]}$$\n",
    "\n",
    "The maximum likelihood objective becomes:\n",
    "$$L(w) = \\prod_{\\mu=1}^P \\prod_{k=1}^K p_k(x^\\mu,\\{w_k\\})^{t_k^\\mu} \\qquad \\leftrightarrow \\qquad E(w)=-\\sum_{\\mu=1}^P\\sum_{k=1}^K t_k^\\mu \\log p_k(x^\\mu,\\{w_k\\})$$"
   ]
  },
  {
   "cell_type": "markdown",
   "id": "c43fcb6f-5ce2-4a20-9d52-98a100305ba8",
   "metadata": {},
   "source": [
    "#### Example: the Softmax function"
   ]
  },
  {
   "cell_type": "code",
   "execution_count": 21,
   "id": "e4b9ed44-3b77-45c0-9bdb-585782f190d1",
   "metadata": {},
   "outputs": [],
   "source": [
    "# define your own Softmax\n",
    "def softmax(h, beta = 1.):\n",
    "    Z = np.exp(beta * h).sum()\n",
    "    return np.exp(beta * h) / Z"
   ]
  },
  {
   "cell_type": "code",
   "execution_count": 22,
   "id": "d0e6b9e3-2bff-41ce-8135-d526dac3d3ff",
   "metadata": {},
   "outputs": [],
   "source": [
    "# generate random data and weights\n",
    "N = 50\n",
    "K = 10\n",
    "\n",
    "np.random.seed(3)\n",
    "x = np.random.randn(N)\n",
    "W = np.random.randn(K,N) / np.sqrt(N)\n",
    "\n",
    "y = W @ x"
   ]
  },
  {
   "cell_type": "code",
   "execution_count": null,
   "id": "216ff254-ae18-4197-b17f-18a56bb545aa",
   "metadata": {},
   "outputs": [],
   "source": [
    "# compute softmax output for different 'inverse temperature' values\n",
    "beta = 1. # try 1., 10., 100.\n",
    "p = softmax(y, beta=beta)\n",
    "\n",
    "plt.plot(y, '.-', label='y')\n",
    "plt.plot(p, '.-', label=f'p, beta = {beta}')\n",
    "plt.legend();"
   ]
  },
  {
   "cell_type": "markdown",
   "id": "8859a17c-2114-444b-a0d9-90b92b86bd85",
   "metadata": {
    "editable": true,
    "slideshow": {
     "slide_type": "slide"
    },
    "tags": []
   },
   "source": [
    "## Parameter optimization\n",
    "\n",
    "In order to minimize $E$, we will look for stationary points, i.e. $\\nabla E(w)=0$. $E$ is minimal when $\\nabla E(w)=0$, but not vice versa!\n",
    "\n",
    "As a consequence, gradient-based methods find a **local minimum**, not necessarily the global minimum."
   ]
  },
  {
   "cell_type": "code",
   "execution_count": 27,
   "id": "ecbc9e36-e680-4523-bd2a-6b8c7d40ae99",
   "metadata": {},
   "outputs": [],
   "source": [
    "# generate random landscape (through a stationary Gaussian process for simplicity)\n",
    "np.random.seed(1)\n",
    "\n",
    "lin_shape = 50\n",
    "x = np.linspace(0,1,lin_shape)\n",
    "cov_lin = np.exp(-0.5/0.1**2*x**2)\n",
    "C = np.kron(toeplitz(cov_lin), toeplitz(cov_lin))\n",
    "\n",
    "E = np.random.multivariate_normal(mean=np.zeros(lin_shape**2), cov=C).reshape(lin_shape,lin_shape)"
   ]
  },
  {
   "cell_type": "code",
   "execution_count": null,
   "id": "ecb1683f-2eee-4c9f-a45b-bd483505aa42",
   "metadata": {},
   "outputs": [],
   "source": [
    "# plot\n",
    "X, Y = np.meshgrid(x,x)\n",
    "ax = plt.figure().add_subplot(projection='3d')\n",
    "ax.plot_surface(X, Y, E, edgecolor='royalblue', lw=0.5, rstride=8, cstride=8, alpha=0.4)\n",
    "ax.contour(X, Y, E, zdir='z', offset=-5, cmap='coolwarm')\n",
    "ax.set(zlim=(-5, 5))\n",
    "\n",
    "plt.show()"
   ]
  },
  {
   "cell_type": "code",
   "execution_count": null,
   "id": "d4192d4d-33fe-412a-971e-8abed84be41d",
   "metadata": {},
   "outputs": [],
   "source": [
    "# another look at the random surface\n",
    "plt.figure(figsize=(12,4))\n",
    "plt.subplot(121)\n",
    "plt.imshow(E, cmap='coolwarm')\n",
    "plt.hlines(y=20, xmin=0, xmax=lin_shape-1, color='black', alpha=0.5)\n",
    "plt.vlines(x=30, ymin=0, ymax=lin_shape-1, color='gray', alpha=0.5)\n",
    "plt.subplot(122)\n",
    "plt.plot(E[20], color=\"black\")\n",
    "plt.plot(E[:,30], color=\"gray\")\n",
    "plt.tight_layout();"
   ]
  },
  {
   "cell_type": "markdown",
   "id": "f7b343d7-b6ee-4313-bbf6-abd6955a9ff4",
   "metadata": {
    "editable": true,
    "slideshow": {
     "slide_type": "slide"
    },
    "tags": []
   },
   "source": [
    "## Gradient descent optimization\n",
    "\n",
    "The simplest procedure to optimize $E$ is to start with a random $w$ and iterate:\n",
    "$$w^{t+1}=w^t-\\eta \\nabla E(w^t)$$\n",
    "$t$ labels the learning iterations.\n",
    "This is called **batch learning**, where all training data are included in the computation of $\\nabla E$.\n",
    "\n",
    "This algorithm converge if $\\eta$ is _sufficiently small_ and $E$ is bounded from below. Indeed, denoting $\\Delta w=-\\eta \\nabla E$:\n",
    "\n",
    "$$E(w+\\Delta w)\\approx E(w)+ \\sum_i \\Delta w_i \\frac{\\partial E}{\\partial w_i} =E(w)-\\eta\\sum_i \\left(\\frac{\\partial E}{\\partial w_i}\\right)^2 \\le E(w)$$\n",
    "\n",
    "In each gradient descent step, the value of $E$ is lowered. Since $E$ is bounded from below, the procedure must converge asymptotically."
   ]
  },
  {
   "cell_type": "markdown",
   "id": "a20ed8b5-db03-4bd2-aec0-dededf4a6434",
   "metadata": {
    "editable": true,
    "slideshow": {
     "slide_type": "slide"
    },
    "tags": []
   },
   "source": [
    "## Convergence of gradient descent in a quadratic well\n",
    "\n",
    "$$E(w)=\\frac{1}{2}\\sum_i \\lambda_i w_i^2$$$$\\Delta w_i=-\\eta \\frac{\\partial E}{\\partial w_i}=-\\eta \\lambda_i w_i$$$$w^\\mathrm{new}_i= w_i + \\Delta w_i = (1-\\eta \\lambda_i)w_i$$\n",
    "\n",
    "Convergence occurs when $|1-\\eta \\lambda_i|<1$.\n",
    "Oscillations occur when $1-\\eta \\lambda_i < 0$.\n",
    "\n",
    "The optimal $\\eta$ depends on the curvature of each dimension: $\\eta \\lesssim \\frac{1}{\\lambda_i}$ shows that the direction of maximum curvature induces a critical learning rate."
   ]
  },
  {
   "cell_type": "code",
   "execution_count": 10,
   "id": "d09e6684-58f1-4ca4-b3e8-c6cae4e3a923",
   "metadata": {},
   "outputs": [
    {
     "name": "stdout",
     "output_type": "stream",
     "text": [
      "critical etas:\n",
      "[10.  1.]\n"
     ]
    }
   ],
   "source": [
    "# set loss function\n",
    "lambdas = np.array([0.1, 1.])\n",
    "\n",
    "def loss(w):\n",
    "    return 0.5 * (lambdas[0] * w[0]**2 + lambdas[1] * w[1]**2)\n",
    "\n",
    "wrange = np.arange(-10, 10, 0.5)\n",
    "X, Y = np.meshgrid(wrange, wrange)\n",
    "E_quad = 0.5 * (X**2 * lambdas[0] + Y**2 * lambdas[1])\n",
    "\n",
    "print(\"critical etas:\")\n",
    "print(1/lambdas)"
   ]
  },
  {
   "cell_type": "code",
   "execution_count": null,
   "id": "eba612ae-452b-4f2a-b44e-77c708445107",
   "metadata": {},
   "outputs": [],
   "source": [
    "eta = 0.1 # try 0.9, 1.1, 2\n",
    "\n",
    "titot = 50\n",
    "ws = np.zeros((titot, 2))\n",
    "losses = np.zeros(titot)\n",
    "w_gd = np.array([5., 5.])\n",
    "grad = np.zeros_like(w_gd)\n",
    "for ti in range(titot):\n",
    "    losses[ti] = loss(w_gd)\n",
    "    ws[ti] = w_gd\n",
    "    grad = lambdas * w_gd # compute new gradient\n",
    "    w_gd -= eta * grad # move along the new gradient\n",
    "\n",
    "plotting_utility(E_quad, wrange, ws, losses, minimizer=[0,0], label=\"w\")"
   ]
  },
  {
   "cell_type": "markdown",
   "id": "0ccace1d-1405-469c-99ba-103a5216bdd6",
   "metadata": {
    "editable": true,
    "slideshow": {
     "slide_type": "slide"
    },
    "tags": []
   },
   "source": [
    "## Learning with momentum\n",
    "\n",
    "One solution is adding a **momentum** term, with $0\\le \\alpha <1$:\n",
    "$$\\Delta w^{t+1}= -\\eta \\nabla E(w^t) + \\alpha \\Delta w^t$$\n",
    "$$= -\\eta \\nabla E(w^t) +\\alpha\\left(-\\eta \\nabla E(w^{t-1})+ \\alpha\\left(-\\eta \\nabla E(w^{t-2})+\\ldots\\right)\\right)$$$$=-\\eta \\sum_{k=0}^t \\alpha^k \\nabla E(w^{t-k})$$\n",
    "$\\nabla E$ may overshoot in some directions (oscillations) and not in other directions.\n",
    "\n",
    "#### No oscillations\n",
    "A rough approximation is that all derivatives are equal:\n",
    "\n",
    "$$\\Delta w^{t+1} \\approx-\\eta \\nabla E \\sum_{k=0}^t \\alpha^k\\approx -\\frac{\\eta}{1-\\alpha} \\nabla E$$\n",
    "where we used the well known expression for a geometric series. This results in **acceleration**.\n",
    "\n",
    "#### Oscillations\n",
    "Approximate all derivatives are equal but have opposite sign:\n",
    "$$\\Delta w^{t+1} \\approx-\\eta \\nabla E \\sum_{k=0}^t (-\\alpha)^k\\approx -\\frac{\\eta}{1+\\alpha}\\nabla E$$\n",
    "This results in **deceleration**."
   ]
  },
  {
   "cell_type": "code",
   "execution_count": null,
   "id": "885d9c62-b36f-4f75-ad28-b14dcc7d4e73",
   "metadata": {},
   "outputs": [],
   "source": [
    "# experiment with momentum\n",
    "eta = 1.9\n",
    "momentum = 0. # try 0.5 or 0.9\n",
    "\n",
    "titot = 50\n",
    "ws = np.zeros((titot, 2))\n",
    "losses = np.zeros(titot)\n",
    "w_gd = np.array([5., 5.])\n",
    "grad = np.zeros_like(w_gd)\n",
    "for ti in range(titot):\n",
    "    losses[ti] = loss(w_gd)\n",
    "    ws[ti] = w_gd\n",
    "    w_gd += momentum * grad # apply momentum\n",
    "    grad = lambdas * w_gd # compute new gradient\n",
    "    w_gd -= eta * grad # move along the new gradient\n",
    "\n",
    "plotting_utility(E_quad, wrange, ws, losses, minimizer=[0,0], label=\"w\")"
   ]
  },
  {
   "cell_type": "markdown",
   "id": "81a2eae6-951c-47fc-8bc9-15ded9f8b35b",
   "metadata": {
    "editable": true,
    "slideshow": {
     "slide_type": "slide"
    },
    "tags": []
   },
   "source": [
    "## Newton's method\n",
    "\n",
    "Second-order methods - where the Hessian information is used - are more powerful for optimization. The drawback is that Hessian (and inverse Hessian) computations are costly when $N$ is large.\n",
    "\n",
    "As an example, consider a quadratic approximation to $E$ around $w_0$:\n",
    "$$E(w)\\approx E(w_0)+b^T(w-w_0)+\\frac{1}{2}(w-w_0)^TH(w-w_0)$$ $$b_i=\\frac{\\partial E(w_0)}{\\partial w_i}\\qquad H_{ij}=\\frac{\\partial^2 E(w_0)}{\\partial w_i \\partial w_j}$$ $$\\nabla E(w)\\approx b+H(w-w_0)$$ We can solve $\\nabla E(w)=0$ and obtain:$$w=w_0 - H^{-1}\\nabla E(w_0)$$\n",
    "This is called **Newton's method**. There exist variations along this methods called quasi-Newton (e.g. consider only the diagonal of $H$, thus making inversion easier)."
   ]
  },
  {
   "cell_type": "markdown",
   "id": "37f00207-97bf-4fe2-820e-cf36b37f7a2a",
   "metadata": {},
   "source": [
    "### Small recap: Newton method for finding roots\n",
    "\n",
    "This example with a scalar function is expired from [scipy.optimize.newton](https://docs.scipy.org/doc/scipy-1.16.1/reference/generated/scipy.optimize.newton.html)"
   ]
  },
  {
   "cell_type": "code",
   "execution_count": 46,
   "id": "afdec359-5d9e-4be6-a395-f40aa46d8797",
   "metadata": {},
   "outputs": [
    {
     "name": "stdout",
     "output_type": "stream",
     "text": [
      "...running scipy netwon\n",
      "...running my own netwon\n",
      "tol_f reached - solution found at it: 6\n"
     ]
    },
    {
     "data": {
      "image/png": "[encoded data removed]",
      "text/plain": [
       "<Figure size 640x480 with 1 Axes>"
      ]
     },
     "metadata": {},
     "output_type": "display_data"
    }
   ],
   "source": [
    "def f(x):\n",
    "    return x**3 - 1\n",
    "\n",
    "def df(x):\n",
    "    return 3 * x**2\n",
    "\n",
    "x0 = 3.\n",
    "print(\"...running scipy netwon\")\n",
    "root = optimize.newton(f, x0, fprime=df)\n",
    "\n",
    "print(\"...running my own netwon\")\n",
    "myroot, myfroot, xstory, fstory, _ = gradient_code.newton_root(f, df, x0, tol_f=1e-5, max_iter=50)\n",
    "\n",
    "xs = np.linspace(-3,3,100)\n",
    "\n",
    "plt.plot(xs, f(xs));\n",
    "plt.hlines(y=0, xmin=xs[0], xmax=xs[-1], ls=\":\", color=\"gray\")\n",
    "plt.plot(root, f(root), '.');\n",
    "\n",
    "plt.plot(myroot, myfroot, 'x', color=\"black\");\n",
    "plt.scatter(xstory, fstory, s=20, c=np.linspace(0, 255, len(xstory)), cmap=\"hot\");\n",
    "\n",
    "plt.xlabel('x')\n",
    "plt.ylabel('f(x)');"
   ]
  },
  {
   "cell_type": "markdown",
   "id": "cf11ed58-5517-443b-85c4-ab2820154299",
   "metadata": {},
   "source": [
    "### Newton method for optimization"
   ]
  },
  {
   "cell_type": "markdown",
   "id": "4a960717-5328-490e-942b-94ca46fb68ea",
   "metadata": {},
   "source": [
    "#### 1. An example with a scalar function"
   ]
  },
  {
   "cell_type": "code",
   "execution_count": 47,
   "id": "31ca1f51-346c-4b86-a777-f1111ade84f3",
   "metadata": {},
   "outputs": [
    {
     "name": "stdout",
     "output_type": "stream",
     "text": [
      "...running scipy netwon\n",
      "...running my own netwon\n",
      "it 9 norm: 1.2204972062384334e-09\n",
      "tol_x reached - solution found at it: 9\n"
     ]
    },
    {
     "data": {
      "image/png": "[encoded data removed]",
      "text/plain": [
       "<Figure size 640x480 with 1 Axes>"
      ]
     },
     "metadata": {},
     "output_type": "display_data"
    }
   ],
   "source": [
    "def f(x):\n",
    "    return 7. * x - np.log(x)\n",
    "\n",
    "def df(x):\n",
    "    return 7. - 1. / x\n",
    "\n",
    "def ddf(x):\n",
    "    return 1. / x**2\n",
    "\n",
    "x0 = 0.01 # try out 0.1 and 1. -> the last case will lead to nonsensical results out of the support of the log\n",
    "print(\"...running scipy netwon\")\n",
    "try:\n",
    "    root = optimize.newton(df, x0, fprime=ddf)\n",
    "except:\n",
    "    print(\"optimize.newton encountered a singularity\")\n",
    "\n",
    "print(\"...running my own netwon\")\n",
    "myroot, myfroot, xstory, fstory, intfstory = gradient_code.newton_root(df, ddf, x0, intf=f, tol_f=None, tol_x=1e-5, max_iter=100)\n",
    "\n",
    "xs = np.linspace(1e-2, 1., 100)\n",
    "\n",
    "plt.plot(xs, f(xs));\n",
    "plt.hlines(y=0, xmin=xs[0], xmax=xs[-1], ls=\":\", color=\"gray\")\n",
    "plt.plot(root, f(root), '.');\n",
    "\n",
    "plt.plot(myroot, f(myroot), 'x', color=\"black\");\n",
    "plt.scatter(xstory, intfstory, s=20, c=np.linspace(0, 255, len(xstory)), cmap=\"hot\");\n",
    "\n",
    "plt.xlabel('x')\n",
    "plt.ylabel('f(x)');"
   ]
  },
  {
   "cell_type": "markdown",
   "id": "80a34559-6f10-420f-8181-0858c8cce219",
   "metadata": {},
   "source": [
    "#### 2. An example with a quadratic function in two dimensions\n",
    "\n",
    "The exactness of the approximation for a quadratic function makes the method converge immediately.\n",
    "\n",
    "Note that the Hessian selects \"optimal learning rates\" in each dimension."
   ]
  },
  {
   "cell_type": "code",
   "execution_count": 49,
   "id": "871b3ee4-9268-42cc-a1c7-4d43b6ba9ec5",
   "metadata": {},
   "outputs": [
    {
     "name": "stdout",
     "output_type": "stream",
     "text": [
      "it 2 norm: 0.0\n",
      "tol_x reached - solution found at it: 2\n"
     ]
    },
    {
     "data": {
      "image/png": "[encoded data removed]",
      "text/plain": [
       "<Figure size 1200x400 with 3 Axes>"
      ]
     },
     "metadata": {},
     "output_type": "display_data"
    }
   ],
   "source": [
    "# define gradient function\n",
    "def dloss(w):\n",
    "    return np.array([lambdas[0] * w[0], lambdas[1] * w[1]])\n",
    "\n",
    "# define hessian function - to be used as Jacobian in Newton method\n",
    "def ddloss(w):\n",
    "    return np.diag([lambdas[0], lambdas[1]])\n",
    "\n",
    "w0 = np.array([5., 5.])\n",
    "myroot, myfroot, wstory, fstory, intfstory = gradient_code.newton_root(dloss, ddloss, w0, intf=loss, tol_f=None, tol_x=1e-5, max_iter=50)\n",
    "\n",
    "plotting_utility(E_quad, wrange, np.stack(wstory), np.stack(intfstory), minimizer=[0,0], label=\"w\")"
   ]
  },
  {
   "cell_type": "markdown",
   "id": "7d0322ca-82e0-4d3d-9979-7f4a1675bcdf",
   "metadata": {
    "editable": true,
    "slideshow": {
     "slide_type": "slide"
    },
    "tags": []
   },
   "source": [
    "## Line search\n",
    "\n",
    "Another solution is line optimization:\n",
    "\n",
    "$$w_1=w_0+\\lambda_0 d_0,\\quad\\quad d_0=-\\nabla E(w_0)$$\n",
    "\n",
    "$\\lambda_0>0$ is found by a one-dimensional optimization:\n",
    "\n",
    "$$0=\\frac{\\partial}{\\partial \\lambda_0}E(w_0+\\lambda_0 d_0)=d_0 \\cdot \\nabla E(w_1)=d_0 \\cdot d_1$$\n",
    "\n",
    "Therefore, **subsequent search directions are orthogonal**."
   ]
  },
  {
   "attachments": {},
   "cell_type": "markdown",
   "id": "e9d449a0-4637-4322-80da-6e76ab35041c",
   "metadata": {},
   "source": [
    "#### Example:\n",
    "\n",
    "Let's consider again $$E(w) = \\frac{\\lambda_1 w_1^2 + \\lambda_1 w_2^2}{2}$$\n",
    "\n",
    "with our usual starting point `w0=(5, 5)`\n",
    "\n",
    "One (_i.e. a student of this course_) can (_and will_) easily find a linear equation for the optimal $\\lambda$."
   ]
  },
  {
   "cell_type": "code",
   "execution_count": 7,
   "id": "83a6736d-d10d-4893-aef5-ee6fac25c2e9",
   "metadata": {},
   "outputs": [],
   "source": [
    "w0 = np.array([5., 5.])"
   ]
  },
  {
   "cell_type": "code",
   "execution_count": 8,
   "id": "90fb6204-e9c1-4712-b825-e8d6796aadc4",
   "metadata": {},
   "outputs": [
    {
     "name": "stdout",
     "output_type": "stream",
     "text": [
      "d0 @ d1: 2.4999999986841104e-08\n"
     ]
    }
   ],
   "source": [
    "# solution for one step: you'll be asked to check these results in Ex 4.2\n",
    "d0 = np.array([-0.5, -5.])\n",
    "lopt = 1.008991008991009\n",
    "w1 = np.array([ 4.4955045 , -0.04495504])\n",
    "d1 = np.array([-0.44955045,  0.04495504])\n",
    "print(\"d0 @ d1:\", d0 @ d1) # check d0 and d1 directions are orthogonal"
   ]
  },
  {
   "cell_type": "code",
   "execution_count": 11,
   "id": "697a46d6-b754-417c-8837-a7cf4985f86d",
   "metadata": {},
   "outputs": [
    {
     "data": {
      "image/png": "[encoded data removed]",
      "text/plain": [
       "<Figure size 1200x400 with 3 Axes>"
      ]
     },
     "metadata": {},
     "output_type": "display_data"
    }
   ],
   "source": [
    "# compute function along the negative gradient directions\n",
    "ls0 = np.linspace(0, 3, 200)\n",
    "w0_line = w0 + ls0[:,None] * d0\n",
    "loss_line_w0 = np.zeros_like(ls0)\n",
    "for iw, w_gd in enumerate(w0_line):\n",
    "    loss_line_w0[iw] = loss(w_gd)\n",
    "\n",
    "ls1 = np.linspace(0, 10, 200)\n",
    "w1_line = w1 + ls1[:,None] * d1\n",
    "loss_line_w1 = np.zeros_like(ls1)\n",
    "for iw, w_gd in enumerate(w1_line):\n",
    "    loss_line_w1[iw] = loss(w_gd)\n",
    "\n",
    "plt.figure(figsize=(12,4))\n",
    "\n",
    "plt.subplot(131)\n",
    "plt.plot(w0[0], w0[1], '.')\n",
    "plt.imshow(E_quad, extent=[wrange[0], wrange[-1], wrange[0], wrange[-1]], cmap=\"coolwarm\", alpha=0.3)\n",
    "plt.contour(E_quad, levels=[1,4,9], extent=[wrange[0], wrange[-1], wrange[0], wrange[-1]])\n",
    "plt.scatter(w0_line[:,0], w0_line[:,1], c=loss_line_w0 / loss_line_w0.max(), edgecolors='none', cmap=\"coolwarm\", s=3)\n",
    "plt.xlabel(\"$w_1$\")\n",
    "plt.ylabel(\"$w_2$\");\n",
    "\n",
    "plt.subplot(132)\n",
    "plt.plot(ls0[0], loss_line_w0[0], '.')\n",
    "plt.plot(lopt, loss(w0 + lopt * d0), '.', c='black')\n",
    "plt.scatter(ls0, loss_line_w0, c=loss_line_w0 / loss_line_w0.max(), edgecolors='none', cmap=\"coolwarm\", s=3);\n",
    "plt.xlabel(\"$\\lambda$\")\n",
    "plt.ylabel(\"$E(w_0 + \\lambda d_0)$\");\n",
    "\n",
    "plt.subplot(133)\n",
    "ilopt = np.argmin(np.abs(ls0 - lopt))\n",
    "plt.plot(w0[0], w0[1], '.')\n",
    "plt.plot(w1[0], w1[1], '.', c='black')\n",
    "plt.imshow(E_quad, extent=[wrange[0], wrange[-1], wrange[0], wrange[-1]], cmap=\"coolwarm\", alpha=0.3)\n",
    "plt.contour(E_quad, levels=[1,4,9], extent=[wrange[0], wrange[-1], wrange[0], wrange[-1]])\n",
    "plt.scatter(w0_line[:ilopt,0], w0_line[:ilopt,1], c=loss_line_w0[:ilopt] / loss_line_w0.max(),\n",
    "            vmin=0, vmax=1, edgecolors='none', cmap=\"coolwarm\", s=3)\n",
    "plt.scatter(w1_line[:,0], w1_line[:,1], c=loss_line_w1 / loss_line_w1.max(), edgecolors='none', cmap=\"coolwarm\", s=3)\n",
    "plt.xlabel(\"$w_1$\")\n",
    "plt.ylabel(\"$w_2$\");\n",
    "\n",
    "plt.tight_layout();"
   ]
  },
  {
   "attachments": {},
   "cell_type": "markdown",
   "id": "e6db8cb3-f6f6-4639-9ca7-b8bb14560dc6",
   "metadata": {},
   "source": [
    "## _Bonus: Conjugate gradient descent_\n",
    "\n",
    "Line search starts at $w_0$ and achieves:\n",
    "$$w_1 \\quad \\text{such that}\\quad \\nabla E(w_1)\\cdot d_0=0$$ $$w_2 \\quad \\text{such that} \\quad \\nabla E(w_2) \\cdot d_1=0$$ $$\\ldots$$\n",
    "\n",
    "We want to find a method that yields $\\nabla E(w_2) \\cdot d_1=0$ **and** $\\nabla E(w_2) \\cdot d_0=0$. We choose as the new direction a combination of the gradient and the old direction:\n",
    "$$d'_1=-\\nabla E(w_1)+\\beta d_0$$\n",
    "\n",
    "Line optimization $w_2=w_1 +\\lambda_1 d_1'$ yields $\\lambda_1>0$ such that $d'_1 \\cdot \\nabla E(w_2)=0$. The direction $d'_1$ is found by demanding that $\\nabla E(w_2)\\approx 0$ also in the old direction $d_0$:\n",
    "$$0=d_0 \\cdot \\nabla E(w_2)\\approx d_0 \\cdot (\\nabla E(w_1) + \\lambda_1 H(w_1) d'_1)$$or$$d_0 H(w_1)d'_1=0$$\n",
    "The subsequent search directions $d_0, d_1'$ are said to be **conjugate**. The conjugate directions can be computed without calculating the Hessian matrix, for instance using the **Polak-Ribiere rule**:\n",
    "\n",
    "$$\\beta = \\frac{(\\nabla E(w_1)-\\nabla E(w_0))\\cdot \\nabla E(w_1)}{\\|\\nabla E(w_0)\\|^2}$$For quadratic problems, it can be proven that this rule keeps the last $N$ directions all mutually conjugate:$$d_i^T H d_j =0\\qquad i,j =1,\\ldots,N$$\n",
    "\n",
    "#### Proof:\n",
    "We need $0=d_0^T H(w_1)d_1'$. We use $\\nabla E(w_0)\\approx \\nabla E(w_1)+(w_0-w_1)^T H(w_1)=\\nabla E(w_1)-\\lambda_0 d_0^T H(w_1)$.\n",
    "Then\n",
    "\n",
    "$$ 0=\\lambda_0 d_0^T H(w_1)d_1' \\\\=\\left(\\nabla E(w_1)-\\nabla E(w_0)\\right)\\cdot \\left(-\\nabla E(w_1)+\\beta d_0\\right) \\\\= -\\left(\\nabla E(w_1)-\\nabla E(w_0)\\right)\\cdot \\nabla E(w_1)+\\beta \\,\\|\\nabla E(w_0)\\|^2 $$\n",
    "\n",
    "where in the last step we used that $ d_0\\cdot \\nabla E(w_1)=0 $"
   ]
  },
  {
   "attachments": {},
   "cell_type": "markdown",
   "id": "1c07a19a-75e1-47a5-9bb5-fa2ecc7dcb3c",
   "metadata": {
    "editable": true,
    "slideshow": {
     "slide_type": "slide"
    },
    "tags": []
   },
   "source": [
    "## Stochastic gradient descent (SGD)\n",
    "\n",
    "Denote the training error:\n",
    "$$E(w)=\\frac{1}{P}\\sum_\\mu E_\\mu(w)$$We want to find the solution of:$$\\nabla E(w)=\\frac{1}{P}\\sum_\\mu \\nabla E_\\mu(w)=0$$\n",
    "\n",
    "One way to make the gradient computation less costly for large dataset is to only use a subset (or **batch**) $\\mathcal{B}$ of training patterns when computing $\\nabla E$:\n",
    "\n",
    "$$w^{t+1}=w^{t}-\\frac{\\eta_{t}}{\\left|\\mathcal{B}\\right|}\\sum_{\\mu\\in\\mathcal{B}}\\nabla E_{\\mu}$$\n",
    "\n",
    "where $\\left|\\mathcal{B}\\right|$ has been introduced to normalize with the total number of patterns in a batch, and we considered a learning rate $\\eta_t$ that can generically depend on time.\n",
    "\n",
    "SGD results in a stochastic dynamics in $w$ that can help to escape local minima."
   ]
  },
  {
   "cell_type": "markdown",
   "id": "a5f64ef0-7c65-4642-bade-61f0fd89d7f7",
   "metadata": {
    "editable": true,
    "slideshow": {
     "slide_type": "slide"
    },
    "tags": []
   },
   "source": [
    "## Robbins-Monro (RM)\n",
    "\n",
    "Consider the $n$-dimensional problem of finding $x=(x_1,\\ldots,x_n)$ such that:\n",
    "$$M_i(x)=a_i$$\n",
    "\n",
    "where\n",
    "$$M_i(x)=\\sum_\\mu p_\\mu N_{i\\mu}(x)$$\n",
    "\n",
    "and $N_{i\\mu}(x)$ is some non-linear function, $p_\\mu>0$ is a probability distribution ($\\sum_\\mu p_\\mu=1$), and $a_i$ is a constant.\n",
    "\n",
    "The method of **stochastic approximation**, originally due to Robbins and Monro (1951), proceeds as follows:\n",
    "* Initialize $x^0$ randomly\n",
    "* For $t=0,\\ldots$, choose $\\mu\\sim p_\\mu$\n",
    "\n",
    "  update:\n",
    "    $$x^{t+1}_i=x^{t}_i + \\eta_t (a_i-N_{i\\mu}(x^{t}))$$If $M_i(x)=\\nabla_i E$ and $E$ is convex, and $x^*$ is the unique solution ($M_i(x^*)=a_i$), then one can prove that $\\|x^t - x^*\\|^2\\to 0$, provided that:$$\\sum_{t=1}^\\infty \\eta_t=\\infty\\qquad \\sum_{t=1}^\\infty \\eta_t^2< \\infty$$\n",
    "\n",
    "for instance using a _learning rate scheduling_ $\\eta_t=1/t$."
   ]
  },
  {
   "cell_type": "markdown",
   "id": "f73e3a4d-f771-44d8-b64d-a8a96c5d9c8a",
   "metadata": {},
   "source": [
    "#### An example of RM\n",
    "\n",
    "Inspired from: https://stats.stackexchange.com/questions/514680/root-finding-via-robbins-monro-method-a-real-and-simple-example\n",
    "\n",
    "Consider the random function\n",
    "\n",
    "$$ f(x) = \\frac{1}{1+e^{-\\frac{x}{2}}} - \\frac{1}{2} + u$$\n",
    "\n",
    "obtained by adding Gaussian noise $u$ to a translated sigmoid. Experiment with different gain functions $\\eta_t = 1/t^b$"
   ]
  },
  {
   "cell_type": "markdown",
   "id": "d5678124-b499-4524-8aa7-01813e33a2fd",
   "metadata": {},
   "source": [
    "def f(x, noise = 0.1):\n",
    "    av = 1. / (1. + np.exp(-0.5 * x)) - 0.5\n",
    "    if isinstance(x, (np.ndarray)):\n",
    "        return av + np.random.randn(*x.shape) * noise\n",
    "    else:\n",
    "        return av + np.random.randn() * noise\n",
    "\n",
    "xs = np.arange(-10,10,0.1)\n",
    "plt.plot(xs, f(xs))\n",
    "plt.plot(xs, f(xs, noise=0), '--', c='black');\n",
    "plt.hlines(y=0, xmin=xs[0], xmax=xs[-1], color='gray', ls=':');\n",
    "plt.xlabel('x')\n",
    "plt.ylabel('f(x)');\n",
    "\n",
    "a = 0.2\n",
    "plt.hlines(y=a, xmin=-10, xmax=10, ls=':', color='red');"
   ]
  },
  {
   "cell_type": "code",
   "execution_count": 95,
   "id": "d7f3bf66-24cb-49d4-8461-5e9159c9ca15",
   "metadata": {},
   "outputs": [],
   "source": [
    "# define a minimal Robbins-Monro routine\n",
    "def rm(fun, eta_fun, a, x0, max_iter = 1000):\n",
    "    x_history = np.zeros(max_iter)\n",
    "    x = x0\n",
    "    for it in range(1, max_iter + 1):\n",
    "        x_history[it-1] = x\n",
    "        eta = eta_fun(it)\n",
    "        x = x + eta * (a - fun(x))\n",
    "    return x, x_history"
   ]
  },
  {
   "cell_type": "code",
   "execution_count": null,
   "id": "b323f820-39bf-4695-98b8-a551e83d1170",
   "metadata": {},
   "outputs": [],
   "source": [
    "# run RM for different values of b a visualize the optimization dynamics from various initial conditions\n",
    "\n",
    "max_iter = 10000\n",
    "b = 0.7 # try very small b and also b > 1 and look at convergence behavior\n",
    "\n",
    "plt.figure(figsize=(12,4))\n",
    "plt.subplot(121)\n",
    "plt.hlines(y=0, xmin=0, xmax=max_iter, color='gray', ls='--', lw=2);\n",
    "for sample in range(10):\n",
    "    x0 = np.random.randn()\n",
    "    x, x_history = rm(f, lambda t : 1/t**b, a, x0, max_iter=max_iter)\n",
    "    plt.plot(x_history, alpha=0.7)\n",
    "plt.xlabel('t')\n",
    "plt.ylabel('x')\n",
    "plt.xscale('log')\n",
    "\n",
    "plt.subplot(122)\n",
    "ts = np.arange(1, max_iter + 1)\n",
    "etas = 1/ts**b\n",
    "plt.plot(etas, label='$η_t$');\n",
    "plt.plot(etas.cumsum(), label=r'$\\sum_{\\tau=1}^t \\eta_\\tau$');\n",
    "plt.plot((etas**2).cumsum(), label=r'$\\sum_{\\tau=1}^t \\eta^2_\\tau$');\n",
    "plt.xscale('log')\n",
    "plt.xlabel('t')\n",
    "plt.ylabel('η partial sums')\n",
    "plt.legend();\n",
    "\n",
    "plt.tight_layout();"
   ]
  },
  {
   "cell_type": "code",
   "execution_count": null,
   "id": "2d285420-cb10-4926-9eb6-2b6ac2fd2416",
   "metadata": {},
   "outputs": [],
   "source": [
    "xs = np.arange(-10,10,0.1)\n",
    "plt.plot(xs, f(xs, noise=0), '--', c='black');\n",
    "plt.hlines(y=0, xmin=xs[0], xmax=xs[-1], color='gray', ls=':');\n",
    "plt.xlabel('x')\n",
    "plt.ylabel('f(x)');\n",
    "\n",
    "a = 0.2\n",
    "plt.hlines(y=a, xmin=-10, xmax=10, ls=':', color='red');\n",
    "plt.vlines(x=x, ymin=0, ymax=f(x,noise=0));"
   ]
  },
  {
   "cell_type": "markdown",
   "id": "4c0c4c7a-6222-47a9-b3f5-0866bf5150b2",
   "metadata": {},
   "source": [
    "#### Another classic example of RM: running average\n",
    "\n",
    "Inspired from [Wikipedia](https://en.wikipedia.org/wiki/Stochastic_approximation)\n",
    "\n",
    "Consider a stream of values $x_t$ from a Normal distribution. The problem of estimating the mean can be cast as that of finding the following root:\n",
    "\n",
    "$$E\\left[\\mu - x_t\\right] = 0$$\n",
    "\n",
    "via the update rule\n",
    "\n",
    "$$\\mu_{t+1} = \\mu_t - a_t \\left( \\mu_t - x_t\\right) $$\n",
    "\n",
    "or equivalently, and more familiarly:\n",
    "\n",
    "$$\\mu_{t+1} = \\mu_t \\left(1 - a_t \\right) + a_t x_t $$"
   ]
  },
  {
   "cell_type": "code",
   "execution_count": null,
   "id": "50325800-30f0-4b96-babd-66a92f05f520",
   "metadata": {},
   "outputs": [],
   "source": [
    "plt.figure(figsize=(10,4))\n",
    "\n",
    "plt.subplot(121)\n",
    "plt.hist(np.random.randn(10000), bins=\"auto\", density=True, alpha=0.5)\n",
    "plt.vlines(x=0, ymin=0, ymax=1/np.sqrt(2*np.pi), ls='--', color='gray')\n",
    "plt.xlabel('x')\n",
    "plt.ylabel('p(x)')\n",
    "\n",
    "plt.subplot(122)\n",
    "mu0 = np.random.randn()\n",
    "mu, mu_history = rm(lambda x: x - np.random.randn(), lambda t : 1/t**0.6, 0., mu0, max_iter=max_iter)\n",
    "plt.plot(mu_history, alpha=1);\n",
    "plt.xlabel('t')\n",
    "plt.ylabel('mu')\n",
    "\n",
    "plt.tight_layout();"
   ]
  },
  {
   "cell_type": "markdown",
   "id": "b5937d1b-a927-471c-9bde-57ca3abd5618",
   "metadata": {},
   "source": [
    "## Back to stochastic gradient descent\n",
    "\n",
    "In the case where a single pattern is chosen for each weight update in stochastic gradient descent, we have an instance of a RM problem with:\n",
    "$$p_\\mu=\\frac{1}{P}\\qquad a_i=0\\qquad N_{i\\mu}(w)=\\nabla_i E_\\mu(w)$$\n",
    "\n",
    "Thus SGD converges to the optimal solution provided $\\eta_t$ is lowered appropriately and $E$ is convex."
   ]
  },
  {
   "cell_type": "markdown",
   "id": "20dac055-d5ae-4c9e-927b-8e326368ede5",
   "metadata": {},
   "source": [
    "# <center> Assigments </center>"
   ]
  },
  {
   "cell_type": "markdown",
   "id": "e9d25993-1751-44ee-b93b-d557db7560fc",
   "metadata": {},
   "source": [
    "#### Ex 4.1\n",
    "\n",
    "Linear regression is one of the few examples where the minimization of the loss function can be worked out exactly. In this exercise you will check that gradient descent converges to the right minimizer.\n",
    "\n",
    "Generate $P=100$ random vectors $x^\\mu$ in $N=10$ dimension, with $x_i^\\mu$ i.i.d. normally distributed, and their corresponding Gaussian distributed outputs $t^\\mu$.\n",
    "\n",
    "The objective is to learn a linear model\n",
    "$$y(x, w)=\\sum_{j=1}^N w_j x_j$$\n",
    "\n",
    "The best parameters $w$ are found by minimizing:\n",
    "$$E(w) =\\frac{1}{2P}\\sum_{\\mu=1}^P \\left[t^\\mu - y(x^\\mu, w)\\right]^2$$\n",
    "\n",
    "which, as we saw in an earlier lecture, can be considered as a likelihood maximization under a Gaussian model. Proceed as follows:\n",
    "\n",
    "1. compute the gradient and the Hessian of the loss function $E$;\n",
    "2. find the solution analytically;\n",
    "3. highlight the relation between the uniqueness of solutions and the Hessian - discuss possible ways to solve the problem in the case where the solution is not unique;\n",
    "4. implement gradient descent and show that it converges to the solutions found in point 2."
   ]
  },
  {
   "cell_type": "markdown",
   "id": "4f734a92",
   "metadata": {},
   "source": [
    "##### 1."
   ]
  },
  {
   "cell_type": "markdown",
   "id": "d3857d34",
   "metadata": {},
   "source": [
    "$E(w) =\\frac{1}{2P}\\sum_{\\mu=1}^P \\left[t^\\mu - y(x^\\mu, w)\\right]^2$\n",
    "\n",
    "$\\frac{\\partial E}{\\partial w_k} = \\frac{\\partial}{\\partial w_k}\\frac{1}{2P}\\sum_{\\mu=1}^P \\left(t^\\mu - \\sum_{j=1}^N w_jx_j^\\mu\\right)^2$\n",
    "\n",
    "For each sample,\n",
    "\n",
    "$e^\\mu = t ^ \\mu − \\sum_{j=1}^N ​w_j​x_j^μ​$\n",
    "\n",
    "Then,\n",
    "\n",
    "$\\frac{\\partial E}{\\partial w_k} = \\frac{1}{2P}\\sum_{\\mu=1}^P\\frac{\\partial}{\\partial w_k} (e^\\mu)^2 = \\frac{1}{2P}\\sum_{\\mu=1}^P 2(e^\\mu) \\frac{\\partial e^\\mu}{\\partial w_k}$\n",
    "\n",
    "$ \\frac{\\partial e^\\mu}{\\partial w_k} = \\frac{\\partial}{\\partial w_k} \\left( t^\\mu - \\sum_{j=1}^N w_jx_j^\\mu \\right) = -x_k^\\mu$\n",
    "\n",
    "Therefore,\n",
    "\n",
    "$ \\frac{\\partial e^\\mu}{\\partial w_k} = \\frac{1}{2P}\\sum_{\\mu=1}^P 2(e^\\mu) -x_k^\\mu$\n",
    "\n",
    "$$ \\nabla_w E(w) = - \\frac{1}{P} X^T (t-Xw)$$\n",
    "\n",
    "For Hessian,\n",
    "\n",
    "$H_{kl} = \\frac{\\partial^2 E}{\\partial w_k \\partial w_l} = \\frac{\\partial}{\\partial w_l} \\frac{\\partial E}{\\partial w_k}$\n",
    "\n",
    "$\\frac{\\partial}{\\partial w_l} \\left( t^\\mu - \\sum_{j=1}^N w_jx_j^\\mu \\right) = -x_l^\\mu$\n",
    "\n",
    "$H_{kl} = - \\frac{1}{P} \\sum_{\\mu=1}^P  (-x_l^\\mu)(x_k^\\mu) $\n",
    "\n",
    "$H_{kl} = \\frac{1}{P} \\sum_{\\mu=1}^P x_l^\\mu x_k^\\mu $\n",
    "\n",
    "$$H = \\frac{1}{P} X^TX $$"
   ]
  },
  {
   "cell_type": "markdown",
   "id": "ecc361d8",
   "metadata": {},
   "source": [
    "##### 2."
   ]
  },
  {
   "cell_type": "markdown",
   "id": "07e16b51",
   "metadata": {},
   "source": [
    "$ \\nabla_w E(w) = 0$\n",
    "\n",
    "$E_\\lambda(w) = \\frac{1}{2P} || t-Xw || ^2 + \\frac{\\lambda}{2} || w || ^2 = 0$\n",
    "\n",
    "$ \\nabla_w E(w) = - \\frac{1}{P} X^T (t-Xw) + \\lambda w = 0 $\n",
    "\n",
    "$ \\frac{1}{P} X^TXw + \\lambda w = \\frac{1}{P} X^Tt $\n",
    "\n",
    "$ w^* = (X^TX + \\lambda PI)^{-1}X^Tt $\n",
    "\n",
    "$ H_\\lambda = \\frac{1}{P}X^TX + \\lambda I$"
   ]
  },
  {
   "cell_type": "markdown",
   "id": "32e8f285",
   "metadata": {},
   "source": [
    "##### 3."
   ]
  },
  {
   "cell_type": "markdown",
   "id": "c466ae40",
   "metadata": {},
   "source": [
    "The Hessian gives information regarding the curvature of the error function in the weight-space. The rank of the Hessian determines whether the quadratic form is strictly convex, flat in some points or chaotic.\n",
    "\n",
    "if $rank(X) = N$:\n",
    "\n",
    "$X^TX$ is invertible with the Hessian having non-zero eigenvalues. $E(w)$ is strictly convex i.e. unique global minimizer. This decomposes into the normal equation:\n",
    "\n",
    "$w^* = (X^TX)^{-1} X^Tt$\n",
    "\n",
    "if $rank(X) < N$:\n",
    "\n",
    "$X^TX$ is singular with zero eigenvalues i.e. flat in some directions. $E(w)$ is not strictly convex with non-unique minimizers. i.e.\n",
    "\n",
    "Approach 1 - using Pseudo Inverses\n",
    "\n",
    "$w^* = X^+t + (I-X^+X)z, z \\in \\mathbb{R}^N, X^+ \\rarr pseudo-inverse$ \n",
    "\n",
    "Approach 2 - Regularisation\n",
    "\n",
    "Ridge Regression using $l_2$ penalty.\n",
    "\n",
    "$E_\\lambda(w) = \\frac{1}{2P} || t-Xw || ^2 + \\frac{\\lambda}{2} || w || ^2$\n",
    "\n",
    "The Hessian becomes:\n",
    "\n",
    "$H_\\lambda = \\frac{1}{P} X^TX + \\lambda I$\n",
    "\n",
    "$w^*_\\lambda = (X^TX ++ \\lambda PI)^{-1} X^Tt$"
   ]
  },
  {
   "cell_type": "markdown",
   "id": "f4e0765d",
   "metadata": {},
   "source": [
    "##### 4."
   ]
  },
  {
   "cell_type": "code",
   "execution_count": 5,
   "id": "909402ae",
   "metadata": {},
   "outputs": [
    {
     "name": "stdout",
     "output_type": "stream",
     "text": [
      "0.023387306521234854\n"
     ]
    }
   ],
   "source": [
    "P = 100\n",
    "N = 10\n",
    "\n",
    "np.random.seed(0)\n",
    "\n",
    "X = np.random.randn(P, N)\n",
    "w_true = np.random.randn(N)\n",
    "sigma = 0.1\n",
    "noise = sigma * np.random.randn(P)\n",
    "t = X @ w_true + noise\n",
    "\n",
    "def gradient(w):\n",
    "    return -(1.0 / P) * X.T @ (t - X @ w)\n",
    "def loss(w):\n",
    "    return 0.5 / P * np.sum((t - X @ w)**2)\n",
    "\n",
    "eta = 1e-3\n",
    "w_gd = np.zeros(N)\n",
    "for it in range(5000):\n",
    "    w_gd = w_gd - eta * gradient(w_gd)\n",
    "    \n",
    "\n",
    "w_analytic = np.linalg.pinv(X) @ t\n",
    "H = (1.0 / P) * X.T @ X\n",
    "eigvals = np.linalg.eigvalsh(H)\n",
    "L = eigvals.max()\n",
    "\n",
    "print(np.linalg.norm(w_gd-w_analytic))"
   ]
  },
  {
   "cell_type": "markdown",
   "id": "9ecd720b-9c35-4cbf-81b2-12e91f708256",
   "metadata": {},
   "source": [
    "#### Ex 4.2\n",
    "\n",
    "Fill in the missing steps in the **Example** of section **Line Search**:\n",
    "* provide an analytical expression for `lopt`,  `w1` and `d1`;\n",
    "* check your results using a scalar minimization routine like the [Golden-section](https://en.wikipedia.org/wiki/Golden-section_search) method along the lines of [`scipy.optimize.golden`](https://docs.scipy.org/doc/scipy/reference/generated/scipy.optimize.golden.html). You might want to implement it yourself for later use in **Ex 4.3.4**;\n",
    "* check the correctness of the points in the plot."
   ]
  },
  {
   "cell_type": "markdown",
   "id": "7c0444db",
   "metadata": {},
   "source": [
    "$E(w) = \\frac{\\lambda_1 w_1^2 + \\lambda_2 w_2^2}{2}$\n",
    "\n",
    "$w_0=(5, 5)$\n",
    "\n",
    "$\\nabla E(w) = \\begin{pmatrix}\\lambda_1 w_1\\\\ \\lambda_2 w_2 \\end{pmatrix}$ $H=\\begin{pmatrix}\\lambda_1 & 0\\\\[4pt]0 & \\lambda_2\\end{pmatrix}$\n",
    "\n",
    "Taking the steepest descent,\n",
    "\n",
    "$\\nabla E(w_0) = \\begin{pmatrix}5\\lambda_1\\\\ 5\\lambda_2 \\end{pmatrix}= g_0$\n",
    "\n",
    "$d_0=-g_0= -\\begin{pmatrix}5\\lambda_1\\\\ 5\\lambda_2 \\end{pmatrix}$\n",
    "\n",
    "$l_{opt} = -\\frac{\\nabla E(w_0)^Tp}{p^THp}$\n",
    "\n",
    "Since $p=d_0=-g_0$,\n",
    "\n",
    "$l_{opt} = -\\frac{g_0^Tg_0}{g_0^THg_0}$\n",
    "\n",
    "$g_0^Tg_0 = 25(\\lambda_1^2 + \\lambda_2^2)$\n",
    "\n",
    "$g_0^THg_0 = 25(\\lambda_1^3 + \\lambda_2^3)$\n",
    "\n",
    "$$l_{opt} = \\frac{\\lambda_1^2 + \\lambda_2^2}{\\lambda_1^3 + \\lambda_2^3}$$\n",
    "\n",
    "$$w_1 = w_0+l_{opt}d_0 = w_0 - l_{opt}g_0$$\n",
    "\n",
    "$w_{1,j} = 5(1-l_{opt}\\lambda_j), j = 1,2$\n",
    "\n",
    "$$d_1 = - \\nabla E(w_1) = -Hw_1 = - \\begin{pmatrix}\\lambda_1w_{1,1}\\\\\\lambda_2w_{1,2} \\end{pmatrix}$$"
   ]
  },
  {
   "cell_type": "code",
   "execution_count": 12,
   "id": "a8c73abc",
   "metadata": {},
   "outputs": [
    {
     "name": "stdout",
     "output_type": "stream",
     "text": [
      "analytic lopt: 0.26153846153846155\n",
      "w1 (analytic): [ 3.69230769 -0.23076923]\n",
      "d1 (analytic): [-3.69230769  0.92307692]\n",
      "numeric lopt (golden): 0.2615384620187429\n",
      "difference: 4.802813702298181e-10\n"
     ]
    },
    {
     "data": {
      "image/png": "[encoded data removed]",
      "text/plain": [
       "<Figure size 600x400 with 1 Axes>"
      ]
     },
     "metadata": {},
     "output_type": "display_data"
    },
    {
     "name": "stdout",
     "output_type": "stream",
     "text": [
      "g1^T d0 (should be 0): 3.552713678800501e-15\n"
     ]
    }
   ],
   "source": [
    "lam1 = 1.0\n",
    "lam2 = 4.0\n",
    "\n",
    "w0 = np.array([5.0, 5.0])\n",
    "\n",
    "def E(w):\n",
    "    return 0.5 * (lam1 * w[0]**2 + lam2 * w[1]**2)\n",
    "\n",
    "def gradE(w):\n",
    "    return np.array([lam1 * w[0], lam2 * w[1]])\n",
    "\n",
    "H = np.diag([lam1, lam2])\n",
    "\n",
    "g0 = gradE(w0)\n",
    "d0 = -g0\n",
    "\n",
    "lopt_analytic = (g0 @ g0) / (g0 @ (H @ g0))\n",
    "print(\"analytic lopt:\", lopt_analytic)\n",
    "\n",
    "w1_analytic = w0 + lopt_analytic * d0\n",
    "d1_analytic = -gradE(w1_analytic)\n",
    "print(\"w1 (analytic):\", w1_analytic)\n",
    "print(\"d1 (analytic):\", d1_analytic)\n",
    "\n",
    "phi = lambda l: E(w0 + l * d0)\n",
    "\n",
    "def golden_section_minimize(f, a, b, tol=1e-8, maxiter=200):\n",
    "    gr = (np.sqrt(5) - 1) / 2  # 0.618...\n",
    "    c = b - gr * (b - a)\n",
    "    d = a + gr * (b - a)\n",
    "    fc = f(c); fd = f(d)\n",
    "    it = 0\n",
    "    while (b - a) > tol and it < maxiter:\n",
    "        if fc < fd:\n",
    "            b, d, fd = d, c, fc\n",
    "            c = b - gr * (b - a)\n",
    "            fc = f(c)\n",
    "        else:\n",
    "            a, c, fc = c, d, fd\n",
    "            d = a + gr * (b - a)\n",
    "            fd = f(d)\n",
    "        it += 1\n",
    "    return (a + b) / 2\n",
    "\n",
    "a, b = 0.0, 10.0\n",
    "lopt_numeric = golden_section_minimize(phi, a, b, tol=1e-10)\n",
    "print(\"numeric lopt (golden):\", lopt_numeric)\n",
    "print(\"difference:\", abs(lopt_numeric - lopt_analytic))\n",
    "\n",
    "ls = np.linspace(max(0, lopt_analytic - 1.0), lopt_analytic + 1.0, 400)\n",
    "phis = [phi(l) for l in ls]\n",
    "\n",
    "plt.figure(figsize=(6,4))\n",
    "plt.plot(ls, phis, label=r'$\\varphi(\\ell)=E(w_0+\\ell d_0)$')\n",
    "plt.axvline(lopt_analytic, color='C1', linestyle='--', label='analytic l_opt')\n",
    "plt.axvline(lopt_numeric, color='C2', linestyle=':', label='numeric l_opt (golden)')\n",
    "plt.scatter([lopt_analytic], [phi(lopt_analytic)], color='black', zorder=5)\n",
    "plt.xlabel(r'$\\ell$')\n",
    "plt.ylabel(r'$\\varphi(\\ell)$')\n",
    "plt.legend()\n",
    "plt.title('Line search profile and found minima')\n",
    "plt.grid(True)\n",
    "plt.show()\n",
    "\n",
    "g1 = gradE(w1_analytic)\n",
    "print(\"g1^T d0 (should be 0):\", float(g1 @ d0))\n"
   ]
  },
  {
   "cell_type": "markdown",
   "id": "d7d1e24c-0829-4cbb-8954-6273638fc058",
   "metadata": {},
   "source": [
    "#### Ex 4.3"
   ]
  },
  {
   "cell_type": "markdown",
   "id": "069504eb-5da8-4d87-a227-5ebb0bea5a3d",
   "metadata": {},
   "source": [
    "In this exercise you will implement a number of optimization algorithm to classify digits in the [MNIST](https://en.wikipedia.org/wiki/MNIST_database) dataset using logistic regression, with the loss function:\n",
    "\n",
    "$$E(w)=-\\frac{1}{P}\\sum_{\\mu=1}^P\\left[t^\\mu \\log y(x^\\mu,w)+(1-t^\\mu)\\log (1-y(x^\\mu,w))\\right]$$\n",
    "\n",
    "The MNIST dataset contains 70000 images of digits from 0 to 9.\n",
    "\n",
    "Proceed as follows:\n",
    "* Download the dataset as explained below.\n",
    "* Select the images of digits **3** and **7** for a two-class classification problem. You will find a total of 14434 images.\n",
    "* Split the previously obtained set in two parts: 80% for the training set and 20% for testing.\n",
    "* The raw data consists of pixel intensities from 0 to 255. Standardize the dataset so that the global pixel average is zero and the std is 1.\n",
    "* Derive the gradient and Hessian for Logistic regression and implement the algorithms below. In the derivation, you will find the following property of the sigmoid function useful (_prove it!_):\n",
    "\n",
    "$$\\frac{d\\sigma(x)}{dx}=\\sigma(x) (1-\\sigma(x))$$\n",
    "\n",
    "which is nothing but the celebrated logistic differential equation, popular in the modeling of [population growth](https://en.wikipedia.org/wiki/Population_model).\n",
    "\n",
    "For each algorithm, produce the requested output and share all the code. Make sure the code is reproducible so we can easily run it and check the results.\n",
    "\n",
    "If optimization is too slow, feel free to report your results with a smaller dataset, by keeping only a subset of the original images."
   ]
  },
  {
   "cell_type": "markdown",
   "id": "12444a23-fc8d-4cec-826f-269c81efc272",
   "metadata": {},
   "source": [
    "There are a number of ways you can get the MNIST dataset. One option is to use scikit-learn:"
   ]
  },
  {
   "cell_type": "code",
   "execution_count": 16,
   "id": "b21d037a-1618-400c-b225-dd1a1876e529",
   "metadata": {},
   "outputs": [],
   "source": [
    "from sklearn.datasets import fetch_openml\n",
    "mnist = fetch_openml('mnist_784', as_frame=False)\n",
    "\n",
    "X, y = mnist[\"data\"].astype(float), mnist[\"target\"].astype(float) # Note: images in X are flattened 28 x 28 = 784"
   ]
  },
  {
   "cell_type": "markdown",
   "id": "2e020b62-ce95-48f5-9d23-ed2e6c2947c0",
   "metadata": {},
   "source": [
    "Another option is to get started with [pytorch](https://pytorch.org/), which we will use to train deep networks. You may want to go through this introductory [tutorial](https://docs.pytorch.org/tutorials/beginner/blitz/cifar10_tutorial.html).\n",
    "\n",
    "You can use [`torch.utils.data.DataLoader`](https://docs.pytorch.org/docs/stable/data.html#torch.utils.data.DataLoader) to extract the entire dataset from [`torchvision.datasets.MNIST`](https://docs.pytorch.org/vision/0.8/datasets.html#mnist)."
   ]
  },
  {
   "cell_type": "markdown",
   "id": "dca4c6cc-061c-4ebc-a103-29ac07e8fc8c",
   "metadata": {},
   "source": [
    "##### 4.3.1\n",
    "\n",
    "* Implement gradient descent to minimize the loss function $E$ for logistic regression.\n",
    "* Produce plots showing how $E$ decreases with iterations on both the training and test sets. Note that the training error should always decrease, but the test error may not.\n",
    "* Test the effect of different values for the learning rate $\\eta$.\n",
    "* Experiment with **early stopping**. Divide your training set into an 80% training set and a 20% validation set (you are not allowed to use the test set to decide when to stop). Train on this reduced training set and monitor the error on both the training and validation sets. Stop the training if/when the validation error increases. Report the error on the test set."
   ]
  },
  {
   "cell_type": "markdown",
   "id": "33e700c0-c3ec-474d-9e73-8db0b5e51543",
   "metadata": {},
   "source": [
    "##### 4.3.2\n",
    "\n",
    "* Add momentum with strength $\\alpha$ to your gradient rule.\n",
    "* Produce plots of how $E$ decreases with iterations on both the training and test sets.\n",
    "* Test the effect of different values for $\\alpha$ and $\\eta$."
   ]
  },
  {
   "cell_type": "markdown",
   "id": "0ba2fb29-f5ff-466c-b7b4-db96f708d6fe",
   "metadata": {},
   "source": [
    "##### 4.3.3\n",
    "\n",
    "Add a **weight decay** term to $E$ (you may notice that momentum induces a slight overfitting):\n",
    "$$E\\left(w\\right)=-\\frac{1}{P}\\sum_{\\mu=1}^{P}\\left[t^{\\mu}\\log y^{\\mu}+\\left(1-t^{\\mu}\\right)\\log\\left(1-y^{\\mu}\\right)\\right]+\\frac{\\lambda}{2N}\\sum_{i=0}^{N}w_{i}^{2}$$\n",
    "\n",
    "Using $\\lambda=0.1$ and the momentum method, report the final loss (without the regularization term) on both training and test sets after convergence, along with the number of iterations."
   ]
  },
  {
   "cell_type": "markdown",
   "id": "9f84b5eb-8c33-44eb-b0b7-f4af90b2962c",
   "metadata": {},
   "source": [
    "##### 4.3.3\n",
    "\n",
    "We'll now use this problem (with $\\lambda=0.1$) and the results from gradient descent with momentum to compare with other methods.\n",
    "\n",
    "##### Newton method\n",
    "\n",
    "Implement the Newton method for the logistic regression problem with weight decay. Produce plots showing how $E$ decreases with iterations on both the training and test sets. Discuss the compromise between number of iteration and computational burden.\n",
    "\n",
    "##### Line search\n",
    "\n",
    "Implement the gradient method with a **line search**: in each iteration, compute the gradient at the current $w$: $d=-\\nabla E(w)$, then numerically find the value of $\\gamma > 0$ that minimizes $E(w+\\gamma d)$. The main challenge is defining the initial interval for the search. Produce plots of how $E$ decreases with iterations on the training and test sets.\n",
    "\n",
    "##### Stochastic gradient descent\n",
    "\n",
    "Implement the SGD method using a constant learning rate $\\eta$ and mini-batch sizes. Produce plots showing how $E$ decreases with iterations on both the training and test sets for different values of $\\eta$ and the size of each batch."
   ]
  }
 ],
 "metadata": {
  "kernelspec": {
   "display_name": ".venv",
   "language": "python",
   "name": "python3"
  },
  "language_info": {
   "codemirror_mode": {
    "name": "ipython",
    "version": 3
   },
   "file_extension": ".py",
   "mimetype": "text/x-python",
   "name": "python",
   "nbconvert_exporter": "python",
   "pygments_lexer": "ipython3",
   "version": "3.11.0"
  }
 },
 "nbformat": 4,
 "nbformat_minor": 5
}
