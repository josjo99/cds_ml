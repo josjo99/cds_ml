{
 "cells": [
  {
   "cell_type": "markdown",
   "id": "c1e40266",
   "metadata": {},
   "source": [
    "## CDS ML Assignment 3\n",
    "##### Group 37 - Rahul Deivasigamani (S1157698) - Joshua John Gigi (S1140063) - Anestis Pantazis (S1169388)"
   ]
  },
  {
   "cell_type": "code",
   "execution_count": null,
   "id": "f95a23a1",
   "metadata": {},
   "outputs": [],
   "source": [
    "import numpy as np\n",
    "import matplotlib.pyplot as plt\n",
    "import math\n",
    "import pandas as pd\n",
    "\n",
    "from scipy.special import factorial, comb\n",
    "from scipy.stats import gamma, norm"
   ]
  },
  {
   "cell_type": "markdown",
   "id": "9caecb95",
   "metadata": {},
   "source": [
    "### Ex 4.1\n",
    "\n",
    "Linear regression is one of the few examples where the minimization of the loss function can be worked out exactly. In this exercise you will check that gradient descent converges to the right minimizer.\n",
    "\n",
    "Generate $P=100$ random vectors $x^\\mu$ in $N=10$ dimension, with $x_i^\\mu$ i.i.d. normally distributed, and their corresponding Gaussian distributed outputs $t^\\mu$.\n",
    "\n",
    "The objective is to learn a linear model\n",
    "$$y(x, w)=\\sum_{j=1}^N w_j x_j$$\n",
    "\n",
    "The best parameters $w$ are found by minimizing:\n",
    "$$E(w) =\\frac{1}{2P}\\sum_{\\mu=1}^P \\left[t^\\mu - y(x^\\mu, w)\\right]^2$$\n",
    "\n",
    "which, as we saw in an earlier lecture, can be considered as a likelihood maximization under a Gaussian model. Proceed as follows:\n",
    "\n",
    "1. compute the gradient and the Hessian of the loss function $E$;\n",
    "2. find the solution analytically;\n",
    "3. highlight the relation between the uniqueness of solutions and the Hessian - discuss possible ways to solve the problem in the case where the solution is not unique;\n",
    "4. implement gradient descent and show that it converges to the solutions found in point 2."
   ]
  },
  {
   "cell_type": "markdown",
   "id": "af7b0d85",
   "metadata": {},
   "source": [
    "#### Solution 4.1"
   ]
  },
  {
   "cell_type": "markdown",
   "id": "45f3688d",
   "metadata": {},
   "source": [
    "##### 1."
   ]
  },
  {
   "cell_type": "markdown",
   "id": "fd29023a",
   "metadata": {},
   "source": [
    "$E(w) =\\frac{1}{2P}\\sum_{\\mu=1}^P \\left[t^\\mu - y(x^\\mu, w)\\right]^2$\n",
    "\n",
    "$\\frac{\\partial E}{\\partial w_k} = \\frac{\\partial}{\\partial w_k}\\frac{1}{2P}\\sum_{\\mu=1}^P \\left(t^\\mu - \\sum_{j=1}^N w_jx_j^\\mu\\right)^2$\n",
    "\n",
    "For each sample,\n",
    "\n",
    "$e^\\mu = t ^ \\mu − \\sum_{j=1}^N ​w_j​x_j^μ​$\n",
    "\n",
    "Then,\n",
    "\n",
    "$\\frac{\\partial E}{\\partial w_k} = \\frac{1}{2P}\\sum_{\\mu=1}^P\\frac{\\partial}{\\partial w_k} (e^\\mu)^2 = \\frac{1}{2P}\\sum_{\\mu=1}^P 2(e^\\mu) \\frac{\\partial e^\\mu}{\\partial w_k}$\n",
    "\n",
    "$ \\frac{\\partial e^\\mu}{\\partial w_k} = \\frac{\\partial}{\\partial w_k} \\left( t^\\mu - \\sum_{j=1}^N w_jx_j^\\mu \\right) = -x_k^\\mu$\n",
    "\n",
    "Therefore,\n",
    "\n",
    "$ \\frac{\\partial e^\\mu}{\\partial w_k} = \\frac{1}{2P}\\sum_{\\mu=1}^P 2(e^\\mu) -x_k^\\mu$\n",
    "\n",
    "$$ \\nabla_w E(w) = - \\frac{1}{P} X^T (t-Xw)$$\n",
    "\n",
    "For Hessian,\n",
    "\n",
    "$H_{kl} = \\frac{\\partial^2 E}{\\partial w_k \\partial w_l} = \\frac{\\partial}{\\partial w_l} \\frac{\\partial E}{\\partial w_k}$\n",
    "\n",
    "$\\frac{\\partial}{\\partial w_l} \\left( t^\\mu - \\sum_{j=1}^N w_jx_j^\\mu \\right) = -x_l^\\mu$\n",
    "\n",
    "$H_{kl} = - \\frac{1}{P} \\sum_{\\mu=1}^P  (-x_l^\\mu)(x_k^\\mu) $\n",
    "\n",
    "$H_{kl} = \\frac{1}{P} \\sum_{\\mu=1}^P x_l^\\mu x_k^\\mu $\n",
    "\n",
    "$$H = \\frac{1}{P} X^TX $$"
   ]
  },
  {
   "cell_type": "markdown",
   "id": "1bf03562",
   "metadata": {},
   "source": [
    "##### 2."
   ]
  },
  {
   "cell_type": "markdown",
   "id": "e4c46968",
   "metadata": {},
   "source": [
    "$ \\nabla_w E(w) = 0$\n",
    "\n",
    "$E_\\lambda(w) = \\frac{1}{2P} || t-Xw || ^2 + \\frac{\\lambda}{2} || w || ^2 = 0$\n",
    "\n",
    "$ \\nabla_w E(w) = - \\frac{1}{P} X^T (t-Xw) + \\lambda w = 0 $\n",
    "\n",
    "$ \\frac{1}{P} X^TXw + \\lambda w = \\frac{1}{P} X^Tt $\n",
    "\n",
    "$ w^* = (X^TX + \\lambda PI)^{-1}X^Tt $\n",
    "\n",
    "$ H_\\lambda = \\frac{1}{P}X^TX + \\lambda I$"
   ]
  },
  {
   "cell_type": "markdown",
   "id": "f72a3473",
   "metadata": {},
   "source": [
    "##### 3."
   ]
  },
  {
   "cell_type": "markdown",
   "id": "1a51a9e2",
   "metadata": {},
   "source": [
    "The Hessian gives information regarding the curvature of the error function in the weight-space. The rank of the Hessian determines whether the quadratic form is strictly convex, flat in some points or chaotic.\n",
    "\n",
    "if $rank(X) = N$:\n",
    "\n",
    "$X^TX$ is invertible with the Hessian having non-zero eigenvalues. $E(w)$ is strictly convex i.e. unique global minimizer. This decomposes into the normal equation:\n",
    "\n",
    "$w^* = (X^TX)^{-1} X^Tt$\n",
    "\n",
    "if $rank(X) < N$:\n",
    "\n",
    "$X^TX$ is singular with zero eigenvalues i.e. flat in some directions. $E(w)$ is not strictly convex with non-unique minimizers. i.e.\n",
    "\n",
    "Approach 1 - using Pseudo Inverses\n",
    "\n",
    "$w^* = X^+t + (I-X^+X)z, z \\in \\mathbb{R}^N, X^+ \\rarr pseudo-inverse$ \n",
    "\n",
    "Approach 2 - Regularisation\n",
    "\n",
    "Ridge Regression using $l_2$ penalty.\n",
    "\n",
    "$E_\\lambda(w) = \\frac{1}{2P} || t-Xw || ^2 + \\frac{\\lambda}{2} || w || ^2$\n",
    "\n",
    "The Hessian becomes:\n",
    "\n",
    "$H_\\lambda = \\frac{1}{P} X^TX + \\lambda I$\n",
    "\n",
    "$w^*_\\lambda = (X^TX ++ \\lambda PI)^{-1} X^Tt$"
   ]
  },
  {
   "cell_type": "markdown",
   "id": "47fc8666",
   "metadata": {},
   "source": [
    "##### 4."
   ]
  },
  {
   "cell_type": "code",
   "execution_count": null,
   "id": "1876bc2a",
   "metadata": {},
   "outputs": [
    {
     "name": "stdout",
     "output_type": "stream",
     "text": [
      "0.023387306521234854\n"
     ]
    }
   ],
   "source": [
    "P = 100\n",
    "N = 10\n",
    "\n",
    "np.random.seed(0)\n",
    "\n",
    "X = np.random.randn(P, N)\n",
    "w_true = np.random.randn(N)\n",
    "sigma = 0.1\n",
    "noise = sigma * np.random.randn(P)\n",
    "t = X @ w_true + noise\n",
    "\n",
    "def gradient(w):\n",
    "    return -(1.0 / P) * X.T @ (t - X @ w)\n",
    "def loss(w):\n",
    "    return 0.5 / P * np.sum((t - X @ w)**2)\n",
    "\n",
    "eta = 1e-3\n",
    "w_gd = np.zeros(N)\n",
    "for it in range(5000):\n",
    "    w_gd = w_gd - eta * gradient(w_gd)\n",
    "    \n",
    "\n",
    "w_analytic = np.linalg.pinv(X) @ t\n",
    "H = (1.0 / P) * X.T @ X\n",
    "eigvals = np.linalg.eigvalsh(H)\n",
    "L = eigvals.max()\n",
    "\n",
    "print(np.linalg.norm(w_gd-w_analytic))"
   ]
  },
  {
   "cell_type": "markdown",
   "id": "64ada3de",
   "metadata": {},
   "source": [
    "### Ex 4.2\n",
    "\n",
    "Fill in the missing steps in the **Example** of section **Line Search**:\n",
    "* provide an analytical expression for `lopt`,  `w1` and `d1`;\n",
    "* check your results using a scalar minimization routine like the [Golden-section](https://en.wikipedia.org/wiki/Golden-section_search) method along the lines of [`scipy.optimize.golden`](https://docs.scipy.org/doc/scipy/reference/generated/scipy.optimize.golden.html). You might want to implement it yourself for later use in **Ex 4.3.4**;\n",
    "* check the correctness of the points in the plot."
   ]
  },
  {
   "cell_type": "markdown",
   "id": "76c3aaa4",
   "metadata": {},
   "source": [
    "$E(w) = \\frac{\\lambda_1 w_1^2 + \\lambda_2 w_2^2}{2}$\n",
    "\n",
    "$w_0=(5, 5)$\n",
    "\n",
    "$\\nabla E(w) = \\begin{pmatrix}\\lambda_1 w_1\\\\ \\lambda_2 w_2 \\end{pmatrix}$ $H=\\begin{pmatrix}\\lambda_1 & 0\\\\[4pt]0 & \\lambda_2\\end{pmatrix}$\n",
    "\n",
    "Taking the steepest descent,\n",
    "\n",
    "$\\nabla E(w_0) = \\begin{pmatrix}5\\lambda_1\\\\ 5\\lambda_2 \\end{pmatrix}= g_0$\n",
    "\n",
    "$d_0=-g_0= -\\begin{pmatrix}5\\lambda_1\\\\ 5\\lambda_2 \\end{pmatrix}$\n",
    "\n",
    "$l_{opt} = -\\frac{\\nabla E(w_0)^Tp}{p^THp}$\n",
    "\n",
    "Since $p=d_0=-g_0$,\n",
    "\n",
    "$l_{opt} = -\\frac{g_0^Tg_0}{g_0^THg_0}$\n",
    "\n",
    "$g_0^Tg_0 = 25(\\lambda_1^2 + \\lambda_2^2)$\n",
    "\n",
    "$g_0^THg_0 = 25(\\lambda_1^3 + \\lambda_2^3)$\n",
    "\n",
    "$$l_{opt} = \\frac{\\lambda_1^2 + \\lambda_2^2}{\\lambda_1^3 + \\lambda_2^3}$$\n",
    "\n",
    "$$w_1 = w_0+l_{opt}d_0 = w_0 - l_{opt}g_0$$\n",
    "\n",
    "$w_{1,j} = 5(1-l_{opt}\\lambda_j), j = 1,2$\n",
    "\n",
    "$$d_1 = - \\nabla E(w_1) = -Hw_1 = - \\begin{pmatrix}\\lambda_1w_{1,1}\\\\\\lambda_2w_{1,2} \\end{pmatrix}$$"
   ]
  },
  {
   "cell_type": "code",
   "execution_count": null,
   "id": "d4b98d79",
   "metadata": {},
   "outputs": [
    {
     "name": "stdout",
     "output_type": "stream",
     "text": [
      "analytic lopt: 0.26153846153846155\n",
      "w1 (analytic): [ 3.69230769 -0.23076923]\n",
      "d1 (analytic): [-3.69230769  0.92307692]\n",
      "numeric lopt (golden): 0.2615384620187429\n",
      "difference: 4.802813702298181e-10\n"
     ]
    },
    {
     "data": {
      "image/png": "[encoded data removed]",
      "text/plain": [
       "<Figure size 600x400 with 1 Axes>"
      ]
     },
     "metadata": {},
     "output_type": "display_data"
    },
    {
     "name": "stdout",
     "output_type": "stream",
     "text": [
      "g1^T d0 (should be 0): 3.552713678800501e-15\n"
     ]
    }
   ],
   "source": [
    "lam1 = 1.0\n",
    "lam2 = 4.0\n",
    "\n",
    "w0 = np.array([5.0, 5.0])\n",
    "\n",
    "def E(w):\n",
    "    return 0.5 * (lam1 * w[0]**2 + lam2 * w[1]**2)\n",
    "\n",
    "def gradE(w):\n",
    "    return np.array([lam1 * w[0], lam2 * w[1]])\n",
    "\n",
    "H = np.diag([lam1, lam2])\n",
    "\n",
    "g0 = gradE(w0)\n",
    "d0 = -g0\n",
    "\n",
    "lopt_analytic = (g0 @ g0) / (g0 @ (H @ g0))\n",
    "print(\"analytic lopt:\", lopt_analytic)\n",
    "\n",
    "w1_analytic = w0 + lopt_analytic * d0\n",
    "d1_analytic = -gradE(w1_analytic)\n",
    "print(\"w1 (analytic):\", w1_analytic)\n",
    "print(\"d1 (analytic):\", d1_analytic)\n",
    "\n",
    "phi = lambda l: E(w0 + l * d0)\n",
    "\n",
    "def golden_section_minimize(f, a, b, tol=1e-8, maxiter=200):\n",
    "    gr = (np.sqrt(5) - 1) / 2  # 0.618...\n",
    "    c = b - gr * (b - a)\n",
    "    d = a + gr * (b - a)\n",
    "    fc = f(c); fd = f(d)\n",
    "    it = 0\n",
    "    while (b - a) > tol and it < maxiter:\n",
    "        if fc < fd:\n",
    "            b, d, fd = d, c, fc\n",
    "            c = b - gr * (b - a)\n",
    "            fc = f(c)\n",
    "        else:\n",
    "            a, c, fc = c, d, fd\n",
    "            d = a + gr * (b - a)\n",
    "            fd = f(d)\n",
    "        it += 1\n",
    "    return (a + b) / 2\n",
    "\n",
    "a, b = 0.0, 10.0\n",
    "lopt_numeric = golden_section_minimize(phi, a, b, tol=1e-10)\n",
    "print(\"numeric lopt (golden):\", lopt_numeric)\n",
    "print(\"difference:\", abs(lopt_numeric - lopt_analytic))\n",
    "\n",
    "ls = np.linspace(max(0, lopt_analytic - 1.0), lopt_analytic + 1.0, 400)\n",
    "phis = [phi(l) for l in ls]\n",
    "\n",
    "plt.figure(figsize=(6,4))\n",
    "plt.plot(ls, phis, label=r'$\\varphi(\\ell)=E(w_0+\\ell d_0)$')\n",
    "plt.axvline(lopt_analytic, color='C1', linestyle='--', label='analytic l_opt')\n",
    "plt.axvline(lopt_numeric, color='C2', linestyle=':', label='numeric l_opt (golden)')\n",
    "plt.scatter([lopt_analytic], [phi(lopt_analytic)], color='black', zorder=5)\n",
    "plt.xlabel(r'$\\ell$')\n",
    "plt.ylabel(r'$\\varphi(\\ell)$')\n",
    "plt.legend()\n",
    "plt.title('Line search profile and found minima')\n",
    "plt.grid(True)\n",
    "plt.show()\n",
    "\n",
    "g1 = gradE(w1_analytic)\n",
    "print(\"g1^T d0 (should be 0):\", float(g1 @ d0))\n"
   ]
  }
 ],
 "metadata": {
  "kernelspec": {
   "display_name": "base",
   "language": "python",
   "name": "python3"
  },
  "language_info": {
   "codemirror_mode": {
    "name": "ipython",
    "version": 3
   },
   "file_extension": ".py",
   "mimetype": "text/x-python",
   "name": "python",
   "nbconvert_exporter": "python",
   "pygments_lexer": "ipython3",
   "version": "3.13.5"
  }
 },
 "nbformat": 4,
 "nbformat_minor": 5
}
